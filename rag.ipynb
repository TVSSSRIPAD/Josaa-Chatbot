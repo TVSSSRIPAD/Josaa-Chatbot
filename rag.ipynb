{
 "cells": [
  {
   "cell_type": "code",
   "execution_count": 1,
   "id": "5d0285db",
   "metadata": {},
   "outputs": [],
   "source": [
    "import ollama\n",
    "import chromadb\n",
    "import csv\n",
    "from langchain.schema import Document"
   ]
  },
  {
   "cell_type": "code",
   "execution_count": 2,
   "id": "3d056d2c",
   "metadata": {},
   "outputs": [],
   "source": [
    "def load_documents():\n",
    "    docs = []\n",
    "    # Define the columns we want to embed vs which ones we want in metadata\n",
    "    columns_to_embed = [\"College\",\"Branch\",\"Category\",\"Gender\",\"OpeningRank\",\"ClosingRank\",\"Year\", \"Round\"]\n",
    "    columns_to_metadata = [\"College\",\"Branch\",\"Category\",\"Gender\",\"Year\", \"Round\"]\n",
    "    with open('iit-closing-ranks.csv', newline=\"\", encoding='utf-8-sig') as csvfile:\n",
    "        csv_reader = csv.DictReader(csvfile)\n",
    "        for i, row in enumerate(csv_reader):\n",
    "            to_metadata = {col: row[col] for col in columns_to_metadata if col in row}\n",
    "            values_to_embed = {k: row[k] for k in columns_to_embed if k in row}\n",
    "            to_embed = \"\\n\".join(f\"{k.strip()}: {v.strip()}\" for k, v in values_to_embed.items())\n",
    "            newDoc = Document(page_content=to_embed, metadata=to_metadata)\n",
    "            docs.append(newDoc)\n",
    "    print(f\"Loaded {len(docs)} documents.\")\n",
    "    return docs"
   ]
  },
  {
   "cell_type": "code",
   "execution_count": 67,
   "id": "71aa756c",
   "metadata": {},
   "outputs": [],
   "source": [
    "client = chromadb.PersistentClient(\"chroma_db_v2\")\n",
    "collection = client.get_or_create_collection(name=\"docs_corrected_v2\")"
   ]
  },
  {
   "cell_type": "code",
   "execution_count": 68,
   "id": "5d98f395",
   "metadata": {},
   "outputs": [
    {
     "name": "stdout",
     "output_type": "stream",
     "text": [
      "Loaded 30458 documents.\n"
     ]
    }
   ],
   "source": [
    "documents = load_documents()"
   ]
  },
  {
   "cell_type": "code",
   "execution_count": 69,
   "id": "457577ad",
   "metadata": {},
   "outputs": [
    {
     "data": {
      "text/plain": [
       "Document(metadata={'College': 'Indian Institute  of Technology Bhubaneswar', 'Branch': 'Civil Engineering (4 Years Bachelor of Technology)', 'Category': 'OPEN', 'Gender': 'Gender-Neutral', 'Year': '2023'}, page_content='College: Indian Institute  of Technology Bhubaneswar\\nBranch: Civil Engineering (4 Years Bachelor of Technology)\\nCategory: OPEN\\nGender: Gender-Neutral\\nOpeningRank: 9462\\nClosingRank: 12911\\nYear: 2023')"
      ]
     },
     "execution_count": 69,
     "metadata": {},
     "output_type": "execute_result"
    }
   ],
   "source": [
    "documents[0]"
   ]
  },
  {
   "cell_type": "code",
   "execution_count": 7,
   "id": "79d6c1b6",
   "metadata": {},
   "outputs": [
    {
     "name": "stdout",
     "output_type": "stream",
     "text": [
      "Creating embeddings for documents...\n",
      "Processed 0 documents.\n",
      "Processed 1000 documents.\n",
      "Processed 2000 documents.\n",
      "Processed 3000 documents.\n",
      "Processed 4000 documents.\n",
      "Processed 5000 documents.\n",
      "Processed 6000 documents.\n",
      "Processed 7000 documents.\n",
      "Processed 8000 documents.\n",
      "Processed 9000 documents.\n",
      "Processed 10000 documents.\n",
      "Processed 11000 documents.\n",
      "Processed 12000 documents.\n",
      "Processed 13000 documents.\n",
      "Processed 14000 documents.\n",
      "Processed 15000 documents.\n",
      "Processed 16000 documents.\n",
      "Processed 17000 documents.\n",
      "Processed 18000 documents.\n",
      "Processed 19000 documents.\n",
      "Processed 20000 documents.\n",
      "Processed 21000 documents.\n",
      "Processed 22000 documents.\n",
      "Processed 23000 documents.\n",
      "Processed 24000 documents.\n",
      "Processed 25000 documents.\n",
      "Processed 26000 documents.\n",
      "Processed 27000 documents.\n",
      "Processed 28000 documents.\n",
      "Processed 29000 documents.\n",
      "Processed 30000 documents.\n",
      "Embeddings created and stored in the collection.\n"
     ]
    }
   ],
   "source": [
    "# Step-1 - Create Embeddings\n",
    "# # store each document in a vector embedding database\n",
    "print(\"Creating embeddings for documents...\")\n",
    "for i, d in enumerate(documents):\n",
    "#   print(d.type)\n",
    "#   print(d.page_content)\n",
    "  response = ollama.embed(model=\"nomic-embed-text:latest\", input=d.page_content)\n",
    "  embeddings = response[\"embeddings\"]\n",
    "  collection.add(\n",
    "    ids=[str(i)],\n",
    "    embeddings=embeddings,\n",
    "    documents=[d.page_content],\n",
    "    metadatas=[d.metadata]\n",
    "  )\n",
    "  # add log for every 1000 documents\n",
    "  if i % 1000 == 0:\n",
    "      print(f\"Processed {i} documents.\")\n",
    "\n",
    "print(\"Embeddings created and stored in the collection.\")"
   ]
  },
  {
   "cell_type": "code",
   "execution_count": 56,
   "id": "8530239a",
   "metadata": {},
   "outputs": [],
   "source": [
    "input_prompt = \"What is cutoff for IIT Bhubaneswar Civil in 2023 for EWS category female?\"\n"
   ]
  },
  {
   "cell_type": "code",
   "execution_count": 57,
   "id": "6fa436b1",
   "metadata": {},
   "outputs": [],
   "source": [
    "# generate an embedding for the input and retrieve the most relevant doc\n",
    "input_prompt_embedding = ollama.embed(\n",
    "  model=\"nomic-embed-text:latest\",\n",
    "  input=input_prompt\n",
    ")"
   ]
  },
  {
   "cell_type": "code",
   "execution_count": 58,
   "id": "de7bef76",
   "metadata": {},
   "outputs": [
    {
     "data": {
      "text/plain": [
       "EmbedResponse(model='nomic-embed-text:latest', created_at=None, done=None, done_reason=None, total_duration=48263250, load_duration=8804958, prompt_eval_count=22, prompt_eval_duration=None, eval_count=None, eval_duration=None, embeddings=[[-0.013225602, 0.017746378, -0.14077987, 0.0068097888, 0.04106113, 0.07477679, 0.064623944, -0.035706736, -0.022891425, 0.06475187, -0.014319079, 0.03102917, 0.107436955, 0.010460729, 0.010427102, -0.017433656, -0.004301423, -0.042128216, -0.02142775, 0.010631569, -0.06982596, -0.015255871, -0.041722927, 0.008139004, 0.10330227, 0.06252138, 0.044583928, 0.04567022, -0.009122506, 0.02202899, 0.0139455255, -0.0024045806, 0.0051151216, -0.0633241, 0.013715263, -0.0410565, 0.05018297, -0.014090066, -0.033158254, -0.06405512, 0.11343658, -0.034406826, 0.015446071, -0.03649666, 0.012203893, 0.03649368, 0.05556488, -0.0071874065, 0.05837849, 0.016281119, -0.008885176, -0.0057657557, 0.01649967, -0.009789251, 0.023660036, 0.009418236, -0.09176736, 0.010364407, -0.022071978, 0.03237587, 0.016722988, 0.051525965, -0.09119213, 0.10488035, 0.030611366, -0.052700937, -0.029120248, 0.023368021, -0.016092055, -0.04157024, -0.004856907, -0.037420478, 0.0070882677, -0.019438969, -0.008496728, -0.013326593, -0.0334115, -0.0034534512, -0.0033420285, 0.026587848, -0.02867214, -0.006151863, 0.033972133, -0.021354673, 0.031289138, 0.04490404, 0.006575825, 0.05332556, -0.051021375, 0.077256665, 0.004116688, 0.035970256, -0.008039251, 0.0276696, -0.0022087302, 0.033642642, -0.018986067, -0.0010253377, -0.04771404, 0.019769764, -0.024570124, -0.041843023, 0.02000564, -0.056375936, -0.013822212, 0.01825223, 0.040810067, -0.025312861, -0.0045030764, -0.028696591, -0.025620308, 0.040966857, -0.02934783, 0.0038422248, 0.004295626, -0.0020617803, 0.018149437, -0.069553755, 0.016996495, 0.0050847963, 0.046684187, -0.031845342, 0.03963521, 0.07302606, -0.041990105, 0.04107059, -0.09854942, 0.008813113, 0.035099056, -0.07348048, -0.055159185, 0.0052477024, -0.028115254, -0.024143558, -0.0012989751, 0.031696647, -0.016366152, -0.02289482, -0.014352271, 0.050606336, 0.01711045, 0.021809664, 0.011365805, -0.041600566, -0.019951511, -0.038200084, 0.07347764, -0.024019487, -0.03991802, 0.025672885, -0.013077606, 0.0076116375, 0.02827949, 0.03268247, -0.010207167, -0.03936608, 0.029407296, -0.0017600933, 0.024251197, -0.0033444243, 0.0029445149, 0.043820407, -0.020011283, 0.058043238, -0.06685643, -0.042207066, -0.032845415, 0.0112422025, -0.007400113, 0.020677052, -0.040208656, -0.008519913, 0.045526322, -0.02269825, 0.014193289, -0.02781072, 0.02849956, -0.048479863, 0.033220228, 0.008487404, 0.0144669525, -0.0075331037, 0.017153045, 0.011262738, -0.025042992, -0.06526095, 0.012290462, 0.0053421045, -0.020867268, -0.047002215, -0.0015334988, 0.02631356, -0.12118214, -0.03510512, -0.090228885, 0.0043748464, 0.051711794, 0.05255803, -0.011913466, -0.057669856, -0.035186753, 0.024183117, -0.035252385, 0.010103969, -0.034443248, 0.04646402, 0.018459983, -0.0077019823, -0.061317947, 0.033108663, 0.026200663, -0.02091899, 0.0062077893, -0.020576654, 0.05711746, -0.06017831, -0.015720902, -0.040700898, -0.031338196, 0.06359293, 0.04195363, -0.0083844215, -0.015129741, -0.02900011, 0.036349095, 0.010000269, -0.0201969, -0.039951082, 0.012309419, -0.016871126, 0.009396114, -0.06507505, 0.029132007, -0.024985895, -0.0059578717, 0.04179207, 0.034194846, -0.029619683, 0.009385567, -0.022812545, 0.02331484, 0.051501498, -0.025998292, 0.016021324, -0.014119635, 0.0444709, 0.05286601, -0.028050352, -0.028005224, 0.05953082, -0.0070230835, -0.03423674, -0.0068393494, 0.0803925, -0.025818346, -0.033750903, -0.009045448, -0.020403625, -0.0076541416, 0.018150343, 0.0035763097, -0.040473238, 0.06520268, -0.00864078, -0.038159054, 0.010778835, -0.0051298277, 0.013750986, 0.02280558, -0.033610553, 0.047480974, 0.037267454, -0.037403096, 0.05080379, 0.02353777, -0.031363856, 0.004417133, -0.046266694, -0.0040050657, 0.03585526, -0.03227404, -0.017965617, 0.010999779, 0.020756219, -0.018840374, 0.05585499, 0.054329563, -0.018831339, -0.00053579407, 0.0018591869, -0.00027283386, -0.030933503, -0.042159926, 0.07645743, 0.07063561, 0.0065177237, 0.04039174, 0.000987256, -0.025481336, -0.035336312, 0.000647305, -0.023677878, 0.044238526, -0.010672752, 0.0014393614, -0.068238, 0.060674954, -0.028010007, 0.050049324, -0.035994567, -0.02477072, 0.013277932, 0.037884656, -0.003111644, -0.03704039, 0.017955633, 0.0378032, -0.039655894, 0.024068339, 0.0071785445, 0.02794256, 0.026660454, 0.013516213, -0.005009966, -0.040941365, 0.03964719, 0.0005500859, -0.03698128, -0.054209374, 0.030254114, -0.006913896, 0.07683926, 0.060023557, -0.021333857, 0.021555861, 0.0040820804, -0.011670957, 0.004173567, 0.018264808, 0.04533393, 0.061212223, 0.037818108, 0.07999284, -0.06174642, -0.010961737, 0.0043729106, -0.023591543, 0.014826311, 0.036652584, 0.024297895, -0.043883327, -0.01894445, -0.013335791, -0.007350371, 0.026866365, 0.01696141, -0.016705265, 0.0489271, 8.268603e-05, 0.032319155, 0.023022726, -0.048498478, 0.033004645, -0.012735763, -0.0036037671, 0.010295908, 0.0062500257, 0.021353122, 0.037442725, -0.04173628, -0.033515684, -0.040235557, -0.005179523, 0.029324172, -0.013487344, 0.017566927, -0.05406178, 0.0088053895, -0.008421181, 0.021955905, 0.019416424, 0.0012869519, -0.01320382, -0.008450567, -0.016402347, -0.036691144, -0.0104921935, -0.04491704, -0.0050286027, -0.04043058, 0.0049318783, -0.02188835, -0.020665292, -0.0009015378, -0.043671, -0.045077108, 0.03886631, -0.020881528, -0.030172043, 0.06743959, -0.03183272, -0.048381895, 0.0021998582, -0.023213578, -0.007422113, 0.040667508, -0.027892824, -0.023272026, 0.041951016, 0.029713564, 0.01810984, 0.014618366, -0.02839102, -0.053691905, 0.013350388, -0.013881816, 0.030745203, 0.011508643, -0.036108837, 0.010299821, 0.08522413, 0.02211073, 0.013558178, 0.013953912, 0.055505626, 0.040060516, 0.035368122, -0.020685041, 0.018729154, -0.022049809, 0.040202774, 0.0470688, 0.014561238, 0.003085524, 0.0042341375, 0.035007346, 0.012905411, 0.024329867, -0.033003483, 0.024658741, 0.007046266, -0.07534124, -0.04529006, -0.060519867, 0.04210582, 0.05434923, 0.013479236, -0.070200615, -0.017339118, 0.0734215, 0.039634034, -0.0050532464, 0.016362872, 0.02807418, 0.06027812, -0.07169765, -0.04139535, 0.013065858, 0.017693613, 0.06835781, 0.030092929, 0.025355186, -0.06403132, 0.018359018, -0.005839733, -0.03317462, -0.010848612, -0.02781362, 0.02541701, 0.018209195, -0.029955225, 0.042343892, 0.041852076, -0.045402616, -0.022063278, 0.040225532, -0.00853576, -0.047111526, -0.011812661, 0.022447782, 0.026361737, -0.04997373, 0.0010262296, -0.0025329087, 0.0201066, 0.021921817, 0.047485832, -0.012453835, 0.013378734, -0.021622572, 0.024682267, 0.013022836, -0.003887295, 0.0065363944, 0.036817465, -0.016536243, -0.0018502964, 0.00038368205, 0.06006778, -0.0058696535, 0.021879477, 0.03276483, -0.0033351504, 0.031325713, 0.016223017, -0.013534181, -0.0126543585, -0.057024837, -0.030937368, 0.06362552, -0.03395484, 0.020046448, 0.04543752, -0.00900807, 0.062931426, -0.027684584, 0.029702002, -0.010653548, -0.0415355, 0.0032223426, 0.013094928, -0.05403686, -0.022582665, 0.009296768, -0.056189246, 0.0053517395, -0.046875354, -0.048651922, 0.021708999, -0.015358338, 0.0038423561, 0.022910371, -0.030465424, -0.020254564, -0.0002353722, 0.0060208747, -0.013701463, 0.014386226, 0.04340816, 0.004499192, 0.016029717, -0.0122294, -0.014771838, -0.020833256, 0.06101532, -0.000273577, -0.04017458, -0.0657899, 0.0013817411, -0.03324647, -0.002794771, -0.09874252, 0.031728096, -0.019234046, -0.016378945, -0.03316815, 0.02480639, -0.01389205, -0.0043994193, 0.00068426365, 0.012335635, 0.0096788565, 0.021885188, -0.0004527789, -0.030987505, -0.030684447, -0.00032121936, -0.02784966, 0.019029155, 0.031136071, 0.0036558555, -0.06658532, 0.04125153, 0.015850203, -0.0012472157, -0.027842611, 0.014084697, -0.008602461, -0.056972235, -0.051520605, 0.04077408, -0.010755345, -0.004795159, 0.023387013, 0.04349947, 0.07491244, -0.010580326, -0.050762374, -0.009399923, 0.0040182187, -0.061904244, -0.016307116, 0.007022531, -0.00172421, -0.060609017, 0.0151709495, 0.0056331996, 0.041874327, -0.01973048, 0.01377499, 0.041613836, 0.043694712, 0.016859932, -0.042346545, 0.08697343, 0.074851915, -0.009929558, 0.049487036, -0.02729864, -0.029176291, 0.041788973, 0.009292735, 0.010080717, 0.036407556, 0.022341855, 0.017812327, 0.061104815, -0.017640457, -0.048822787, 0.0018908902, -0.028989254, -0.07153032, 0.006422214, -0.033091765, 0.072078705, 0.014741396, -0.026867859, -0.0317618, -0.012405334, 0.045801803, 0.016298303, 0.00093527697, -0.07103625, -0.030454716, -0.03372387, -0.0019248615, -0.025314128, 0.049535125, 0.016427694, 0.0063847927, -0.010428852, 0.006448248, -0.044699203, 0.023920085, 0.035279218, -0.00026842515, 0.031000504, 0.013420639, 0.046084415, -0.07559261, 0.050501186, 0.05181618, -0.04450731, -0.063984945, 0.0027656816, -0.016840873, 0.09147975, -0.053143978, 0.019346483, 0.009362809, 0.025707958, -0.020332063, -0.021525847, 0.0184339, 0.03514153, 0.018899221, 0.009628768, -0.007447527, -0.10829122, -0.029233392, 0.008473119, 0.027545376, -0.012967979, 0.02045474, 0.024615249, -0.008170382, 0.011799893, 0.022522338, -5.8913032e-05, -0.03231649, -0.021305582, 0.006208593, 0.036143035, -0.041911833, -0.0048876856, 0.0077698245, -0.010467402, -0.049545143, 0.079838105, -0.0006391713, 0.032753807, -0.011786821, -0.031348016, -0.026460528, 0.047595713, -0.018795826, 0.028996281, 0.00039820853, -0.004101877, 0.05525208, 0.012703563, 0.0683485, 0.02112138, 0.033546787, -0.0835921, -0.013965195, -0.035044055, -0.05987006, 0.009083517, 0.0085952515, 0.026493516, -0.00408453, -0.015880026, 0.06905273, 0.04359498, 0.037376683, -0.04188353, -0.04611893, -0.0050228266, -0.024198905, 0.042528473, 0.008822106, -0.043566868, -0.013389225, -0.045610607, 0.0021681509, 0.022658715, -0.040580437, -0.0023406243, -0.030888077, -0.007656681, -0.033685613, 0.00036340827, 0.018199231, -0.031491622, 0.03826134, -0.0059064464, -0.02577381, -0.055106916, 0.026482811, -0.05118746, 0.022862375, -0.016638217, -0.037157256, -0.049920987, 0.0759336, -0.03461429, 0.007169593, 0.045082457, 0.0030293528, 0.009011936, -0.005159096, -0.045687452, 0.0153859, 0.0072934143, -0.023548631, -0.018295107, -0.032124054, 0.061996482, 0.032767504, 0.011734165, -0.031727005, 0.047542352, 0.015496267, -0.053506803, -0.06408694, -0.031112961, -0.044313654]])"
      ]
     },
     "execution_count": 58,
     "metadata": {},
     "output_type": "execute_result"
    }
   ],
   "source": [
    "input_prompt_embedding"
   ]
  },
  {
   "cell_type": "code",
   "execution_count": 59,
   "id": "e8693939",
   "metadata": {},
   "outputs": [
    {
     "name": "stdout",
     "output_type": "stream",
     "text": [
      "Retrieving relevant document for the input prompt What is cutoff for IIT Bhubaneswar Civil in 2023 for EWS category female?.\n"
     ]
    }
   ],
   "source": [
    "print(f\"Retrieving relevant document for the input prompt {input_prompt}.\")\n",
    "results = collection.query(\n",
    "  query_embeddings=input_prompt_embedding[\"embeddings\"],\n",
    "  n_results=10\n",
    ")"
   ]
  },
  {
   "cell_type": "code",
   "execution_count": 60,
   "id": "f57e3c54",
   "metadata": {},
   "outputs": [],
   "source": [
    "data = results['documents'][0][0]"
   ]
  },
  {
   "cell_type": "code",
   "execution_count": 61,
   "id": "d472a996",
   "metadata": {},
   "outputs": [
    {
     "data": {
      "text/plain": [
       "[['College: Indian Institute  of Technology Bhubaneswar\\nBranch: Civil Engineering (4 Years Bachelor of Technology)\\nCategory: EWS\\nGender: Female-only (including Supernumerary)\\nOpeningRank: 3056\\nClosingRank: 3056\\nYear: 2023',\n",
       "  'College: Indian Institute  of Technology Bhubaneswar\\nBranch: Civil Engineering (4 Years Bachelor of Technology)\\nCategory: EWS\\nGender: Female-only (including Supernumerary)\\nOpeningRank: 3056\\nClosingRank: 3056\\nYear: 2023',\n",
       "  'College: Indian Institute  of Technology Bhubaneswar\\nBranch: Civil Engineering (4 Years Bachelor of Technology)\\nCategory: EWS\\nGender: Female-only (including Supernumerary)\\nOpeningRank: 3056\\nClosingRank: 3056\\nYear: 2023',\n",
       "  'College: Indian Institute  of Technology Bhubaneswar\\nBranch: Civil Engineering (4 Years Bachelor of Technology)\\nCategory: EWS\\nGender: Female-only (including Supernumerary)\\nOpeningRank: 3056\\nClosingRank: 3056\\nYear: 2023',\n",
       "  'College: Indian Institute  of Technology Bhubaneswar\\nBranch: Civil Engineering (4 Years Bachelor of Technology)\\nCategory: EWS\\nGender: Female-only (including Supernumerary)\\nOpeningRank: 3056\\nClosingRank: 3056\\nYear: 2023',\n",
       "  'College: Indian Institute  of Technology Bhubaneswar\\nBranch: Civil Engineering (4 Years Bachelor of Technology)\\nCategory: EWS\\nGender: Female-only (including Supernumerary)\\nOpeningRank: 3122\\nClosingRank: 3308\\nYear: 2024',\n",
       "  'College: Indian Institute  of Technology Bhubaneswar\\nBranch: Civil Engineering (4 Years Bachelor of Technology)\\nCategory: EWS\\nGender: Female-only (including Supernumerary)\\nOpeningRank: 3638\\nClosingRank: 4265\\nYear: 2024',\n",
       "  'College: Indian Institute  of Technology Bhubaneswar\\nBranch: Civil Engineering (4 Years Bachelor of Technology)\\nCategory: EWS\\nGender: Female-only (including Supernumerary)\\nOpeningRank: 3122\\nClosingRank: 3815\\nYear: 2024',\n",
       "  'College: Indian Institute  of Technology Bhubaneswar\\nBranch: Civil Engineering (4 Years Bachelor of Technology)\\nCategory: EWS\\nGender: Female-only (including Supernumerary)\\nOpeningRank: 3122\\nClosingRank: 3815\\nYear: 2024',\n",
       "  'College: Indian Institute  of Technology Bhubaneswar\\nBranch: Civil Engineering (4 Years Bachelor of Technology)\\nCategory: EWS\\nGender: Female-only (including Supernumerary)\\nOpeningRank: 3122\\nClosingRank: 3815\\nYear: 2024']]"
      ]
     },
     "execution_count": 61,
     "metadata": {},
     "output_type": "execute_result"
    }
   ],
   "source": [
    "results['documents']"
   ]
  },
  {
   "cell_type": "code",
   "execution_count": 62,
   "id": "0262aae8",
   "metadata": {},
   "outputs": [
    {
     "name": "stdout",
     "output_type": "stream",
     "text": [
      "Retrieved data: College: Indian Institute  of Technology Bhubaneswar\n",
      "Branch: Civil Engineering (4 Years Bachelor of Technology)\n",
      "Category: EWS\n",
      "Gender: Female-only (including Supernumerary)\n",
      "OpeningRank: 3056\n",
      "ClosingRank: 3056\n",
      "Year: 2023\n"
     ]
    }
   ],
   "source": [
    "print(f\"Retrieved data: {data}\")"
   ]
  },
  {
   "cell_type": "code",
   "execution_count": 63,
   "id": "e0fd9551",
   "metadata": {},
   "outputs": [
    {
     "name": "stdout",
     "output_type": "stream",
     "text": [
      "Generating response using the retrieved data and input prompt.\n",
      "Based on the provided information, the cutoff (or closing rank) for IIT Bhubaneswar Civil Engineering in 2023 for the EWS category female is **3056**.\n",
      "\n",
      "\n",
      "\n",
      "The opening and closing ranks are the same, indicating that the seat was filled at that rank.\n"
     ]
    }
   ],
   "source": [
    "## Step-3 - generate a response combining the prompt and data we retrieved in step 2\n",
    "print(f\"Generating response using the retrieved data and input prompt.\")\n",
    "\n",
    "output = ollama.generate(\n",
    "  model=\"gemma3:12b\",\n",
    "  prompt=f\"You are given below information about closing rank in a college: {data}. \\\n",
    "    Using above information, respond to this prompt: {input_prompt}\"\n",
    ")\n",
    "\n",
    "print(output['response'])"
   ]
  },
  {
   "cell_type": "code",
   "execution_count": 64,
   "id": "c4be2a07",
   "metadata": {},
   "outputs": [],
   "source": [
    "input_prompt2 = \"my rank is 220. general category, male. where can I get cse branch?\"\n",
    "input_prompt_embedding2 = ollama.embed(\n",
    "  model=\"nomic-embed-text:latest\",\n",
    "  input=input_prompt2\n",
    ")\n",
    "results2 = collection.query(\n",
    "  query_embeddings=input_prompt_embedding2[\"embeddings\"],\n",
    "  n_results=1\n",
    ")"
   ]
  },
  {
   "cell_type": "code",
   "execution_count": 65,
   "id": "c8bff63d",
   "metadata": {},
   "outputs": [],
   "source": [
    "data2 = results2['documents'][0][0]"
   ]
  },
  {
   "cell_type": "code",
   "execution_count": 66,
   "id": "b789f33b",
   "metadata": {},
   "outputs": [
    {
     "name": "stdout",
     "output_type": "stream",
     "text": [
      "Okay, let's break down your situation and see about getting into a CSE (Computer Science and Engineering) branch.\n",
      "\n",
      "**Understanding the IIT Kharagpur 2024 Data**\n",
      "\n",
      "The provided information shows the closing rank for SC (PwD) - Gender Neutral students in ECE at IIT Kharagpur in 2024 was 9. This is *extremely* low, reflecting a very specific category and disability status.  **This does not give us much information about your chances.**\n",
      "\n",
      "**Your Situation (General Category, Male, Rank 220)**\n",
      "\n",
      "You're in a significantly different position. You're a General Category, Male candidate with a rank of 220. This means you're competing with the largest and most competitive pool of applicants.\n",
      "\n",
      "**Can you get CSE at IIT Kharagpur with a Rank of 220?**\n",
      "\n",
      "*   **Highly Unlikely, but not Impossible:** Based on past trends, getting CSE at IIT Kharagpur with a General Category, Male rank of 220 would be a significant challenge. Closing ranks for CSE at IIT Kharagpur for General Category, Male students are considerably higher.\n",
      "*   **2024 Data is Key:** The *actual* closing ranks for 2024 are not available yet. They will be released after the counseling rounds are completed. These will be the definitive numbers.\n",
      "*   **Factors Affecting Ranks:** Several factors influence the actual closing ranks each year:\n",
      "    *   **Number of Applicants:** A larger pool of applicants generally pushes ranks higher.\n",
      "    *   **Difficulty of the Exam:** A tougher JEE Main exam might lower the ranks.\n",
      "    *   **Student Preferences:** How students prioritize branches and colleges impacts the final closing ranks.\n",
      "\n",
      "**Where to Look for More Information & Potential Options**\n",
      "\n",
      "1.  **JoSAA Website:** The Joint Seat Allocation Authority (JoSAA) is the official body that handles counseling for IITs and other engineering colleges in India.  **This is your primary resource:**\n",
      "    *   [https://josaa.nic.in/](https://josaa.nic.in/)\n",
      "    *   **Check Past Year Cutoffs:**  JoSAA provides historical cutoff data (previous years' closing ranks).  While this isn't a guarantee, it gives you a reasonable idea of the range to expect.  Look at the CSE closing ranks for General Category, Male students for previous years.\n",
      "    *   **Participate in Mock Counseling:** JoSAA sometimes offers mock counseling rounds.  These allow you to simulate the counseling process and see how your rank might fare.\n",
      "    *   **Follow Announcements:**  Keep a close eye on JoSAA announcements for cutoff releases, counseling schedules, and other important updates.\n",
      "\n",
      "2.  **Other IITs:** With a rank of 220, you have a good chance of getting into CSE at other IITs. Consider:\n",
      "    *   **IIT Bombay:**  Highly competitive, but worth a look.\n",
      "    *   **IIT Delhi:** Another highly sought-after option.\n",
      "    *   **IIT Kanpur:** A strong institution with a good CSE program.\n",
      "    *   **IIT Roorkee:** Has a good reputation.\n",
      "    *   **IIT Madras:**  Also a very good option.\n",
      "\n",
      "**In summary:** Aim for other IITs and check JoSAA website for latest cutoff trends. Good luck!\n"
     ]
    }
   ],
   "source": [
    "\n",
    "output2 = ollama.generate(\n",
    "  model=\"gemma3:12b\",\n",
    "  prompt=f\"You are given below information about closing rank in a college: {data2}. \\\n",
    "    Using above information, respond to this prompt: {input_prompt2}\"\n",
    ")\n",
    "\n",
    "print(output2['response'])"
   ]
  }
 ],
 "metadata": {
  "kernelspec": {
   "display_name": "Python 3 (ipykernel)",
   "language": "python",
   "name": "python3"
  },
  "language_info": {
   "codemirror_mode": {
    "name": "ipython",
    "version": 3
   },
   "file_extension": ".py",
   "mimetype": "text/x-python",
   "name": "python",
   "nbconvert_exporter": "python",
   "pygments_lexer": "ipython3",
   "version": "3.11.13"
  }
 },
 "nbformat": 4,
 "nbformat_minor": 5
}
